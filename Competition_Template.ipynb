{
 "cells": [
  {
   "cell_type": "markdown",
   "metadata": {},
   "source": [
    "**Data Science I - Kaggle Competition:**"
   ]
  },
  {
   "cell_type": "markdown",
   "metadata": {},
   "source": [
    "**Section 1: Preprocessing**\n",
    "\n",
    "Question 1: Load the [X] Dataset\n",
    "\n",
    "Question 2: Show the first 5 rows\n",
    "\n",
    "Question 3: Show the nonnull values for all columns\n",
    "\n",
    "Question 4: Show the min, max, median, mean for all columns\n",
    "\n",
    "Question 5: Handle missing values in the dataset\n",
    "\n",
    "Question 6: Scale the data with scaler of your choice\n"
   ]
  },
  {
   "cell_type": "markdown",
   "metadata": {},
   "source": [
    "**Section 2: Data Exploration**\n",
    "\n",
    "Question 1: Create a pairplot of the dataset\n",
    "\n",
    "Question 2 [Text]: What do you notice from the pairplot?\n",
    "\n",
    "Question 3: Create a heatmap of the variables\n",
    "\n",
    "Question 4 [Text]: What do you notice from the heatmap?\n"
   ]
  },
  {
   "cell_type": "markdown",
   "metadata": {},
   "source": [
    "**Section 3: Model Creation**\n",
    "\n",
    "Question 1: Do a train test split of the dataset\n",
    "\n",
    "Question 2: Choose and fit a model for the dataset, then show accuracy\n",
    "\n",
    "Question 3: Choose and fit a second model for the dataset, then show accuracy\n"
   ]
  },
  {
   "cell_type": "markdown",
   "metadata": {},
   "source": [
    "**Section 4: Model Evaluation**\n",
    "\n",
    "Question 1: Show a classification report for the first model\n",
    "\n",
    "Question 2: Show a classification report for the second model\n",
    "\n",
    "Question 3 [Text]: Which model performed best of the two?\n",
    "\n",
    "Question 4 [Text]: Evaluate the performance of your best model"
   ]
  }
 ],
 "metadata": {
  "language_info": {
   "name": "python"
  }
 },
 "nbformat": 4,
 "nbformat_minor": 2
}
